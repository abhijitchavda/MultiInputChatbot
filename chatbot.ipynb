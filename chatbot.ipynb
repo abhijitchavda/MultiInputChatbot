{
 "cells": [
  {
   "cell_type": "code",
   "execution_count": null,
   "metadata": {},
   "outputs": [],
   "source": [
    "pip install langchain-experimental psutil gradio speechrecognition"
   ]
  },
  {
   "cell_type": "markdown",
   "metadata": {},
   "source": [
    "# Import statements"
   ]
  },
  {
   "cell_type": "code",
   "execution_count": 39,
   "metadata": {},
   "outputs": [],
   "source": [
    "from langchain_community.llms import Ollama\n",
    "from langchain_core.prompts import ChatPromptTemplate, MessagesPlaceholder\n",
    "from langchain.memory import ChatMessageHistory\n",
    "from gradio.data_classes import FileData\n",
    "import time\n",
    "import gradio as gr\n",
    "import psutil\n",
    "import speech_recognition as sr"
   ]
  },
  {
   "cell_type": "markdown",
   "metadata": {},
   "source": [
    "# Connect to locally running LLM by using Ollama"
   ]
  },
  {
   "cell_type": "code",
   "execution_count": 40,
   "metadata": {},
   "outputs": [],
   "source": [
    "# This assumes that ollama is running on localhost at port 11434 and has \"mistral:instruct\" downloaded\n",
    "llm = Ollama(model=\"mistral:instruct\", num_thread = (psutil.cpu_count() - 2), keep_alive = -1, num_ctx=4098)\n",
    "# llm.invoke(\"Hi\") // test"
   ]
  },
  {
   "cell_type": "markdown",
   "metadata": {},
   "source": [
    "# Create chain for conversational generation"
   ]
  },
  {
   "cell_type": "code",
   "execution_count": 41,
   "metadata": {},
   "outputs": [],
   "source": [
    "prompt = ChatPromptTemplate.from_messages([\n",
    "    (\"system\",\"You are a helpful assistant named Atom. Answer all questions to the best of your ability.\"),\n",
    "    MessagesPlaceholder(variable_name=\"messages\")\n",
    "    ])\n",
    "\n",
    "chain = prompt | llm"
   ]
  },
  {
   "cell_type": "markdown",
   "metadata": {},
   "source": [
    "# Create conversational memory for LLMs"
   ]
  },
  {
   "cell_type": "code",
   "execution_count": 42,
   "metadata": {},
   "outputs": [],
   "source": [
    "ephemeral_chat_history = ChatMessageHistory()"
   ]
  },
  {
   "cell_type": "markdown",
   "metadata": {},
   "source": [
    "# Extract contents of text files passed in by user in chat"
   ]
  },
  {
   "cell_type": "code",
   "execution_count": 43,
   "metadata": {},
   "outputs": [],
   "source": [
    "def get_files_content(files):\n",
    "    if len(files) > 0 :\n",
    "        files_content=[]\n",
    "        for FileData in files:\n",
    "            with open(FileData[\"path\"],'r') as f:\n",
    "                try:\n",
    "                    file_content = f.read()\n",
    "                    if file_content == \"\":\n",
    "                        print(f\"Warning : The '{FileData['path']}' file is empty. Skipping it..\")\n",
    "                        continue\n",
    "                    files_content.append(file_content)\n",
    "                except:\n",
    "                    print(f\"Warning : Unable to read the contents of the file '{FileData['path']}'. Skipping it..\")\n",
    "                    continue\n",
    "        if len(files_content) == 0:\n",
    "            return False, \"\"\n",
    "        content = \"\\n\\n\".join(files_content)\n",
    "        return True, content\n",
    "    return True, \"\""
   ]
  },
  {
   "cell_type": "markdown",
   "metadata": {},
   "source": [
    "# Convert speech to text "
   ]
  },
  {
   "cell_type": "code",
   "execution_count": 44,
   "metadata": {},
   "outputs": [],
   "source": [
    "def get_audio_content(audio):\n",
    "    if audio == None:\n",
    "        return True, \"\"\n",
    "    try:                                    \n",
    "        r = sr.Recognizer()\n",
    "        # audio object                                                         \n",
    "        audio = sr.AudioFile(audio)\n",
    "        #read audio object and transcribe\n",
    "        with audio as source:\n",
    "            audio = r.record(source)                  \n",
    "            result = r.recognize_google(audio)\n",
    "    except:\n",
    "        return False, \"\"\n",
    "    return True, \"\\n\\n\" + result + \"\\n\\n\""
   ]
  },
  {
   "cell_type": "markdown",
   "metadata": {},
   "source": [
    "# Combine content from text files and speech to create context"
   ]
  },
  {
   "cell_type": "code",
   "execution_count": 45,
   "metadata": {},
   "outputs": [],
   "source": [
    "def get_context(files, audio):\n",
    "    file_status, file_context = get_files_content(files)\n",
    "    audio_status, audio_context = get_audio_content(audio)\n",
    "    context = \"\"\n",
    "    context_status = True\n",
    "    if not file_status:\n",
    "        context = context + \"Error : Failed to read contents of all uploaded files or it was empty. Please try again and upload readable docs.\\n\"\n",
    "        context_status = False\n",
    "    if not audio_status:\n",
    "        context = context + \"Error : Failed to convert audio to text or the audio was empty. Try again.\\n\"\n",
    "        context_status = False\n",
    "    \n",
    "    if context_status:\n",
    "        context = file_context + audio_context\n",
    "    \n",
    "    return context_status, context"
   ]
  },
  {
   "cell_type": "markdown",
   "metadata": {},
   "source": [
    "# Generate prompt to feed LLM"
   ]
  },
  {
   "cell_type": "code",
   "execution_count": 46,
   "metadata": {},
   "outputs": [],
   "source": [
    "def generate_prompt(context, question):\n",
    "    if ' '.join(context.split()) == \"\" and question == \"\":\n",
    "        return \"\"\n",
    "    elif question == \"\":\n",
    "        return f\"\"\"\n",
    "        Can you provide a comprehensive summary of the given text? \n",
    "        The summary should cover all the key points and main ideas presented in the original text, \n",
    "        while also condensing the information into a concise and easy-to-understand format. \n",
    "        Please ensure that the summary includes relevant details and examples that support the main ideas,\n",
    "        while avoiding any unnecessary information or repetition. \n",
    "        The length of the summary should be appropriate for the length and complexity of the original text, \n",
    "        providing a clear and accurate overview without omitting any important information:\n",
    "        \"{context}\"\n",
    "        CONCISE SUMMARY:\n",
    "        \"\"\"\n",
    "    elif ' '.join(context.split()) == \"\":\n",
    "        return question\n",
    "    else:\n",
    "        return f\"\"\"\n",
    "        Analyze and examine the following document and answer the given question.\n",
    "        Base your answer on the information provided in the document. \n",
    "        If you cannot answer the question based on the document provided,\n",
    "        then answer it based on your knowledge but specify that you are using external information.\n",
    "        \n",
    "        Document:\n",
    "        \"{context}\"\n",
    "\n",
    "        Question:\n",
    "        \"{question}\"\n",
    "\n",
    "        ANSWER:\n",
    "        \"\"\""
   ]
  },
  {
   "cell_type": "markdown",
   "metadata": {},
   "source": [
    "# Driver method"
   ]
  },
  {
   "cell_type": "code",
   "execution_count": 47,
   "metadata": {},
   "outputs": [],
   "source": [
    "def slow_reply(message, history, audio):\n",
    "    context_status, context = get_context(message[\"files\"], audio)\n",
    "    if not context_status:\n",
    "        for i in range(len(context)):\n",
    "            time.sleep(0.1)\n",
    "            yield \"Atom\\n\" + context[: i+1]\n",
    "    else:\n",
    "        question = message[\"text\"]\n",
    "        \n",
    "        Prompt = generate_prompt(context, question)\n",
    "\n",
    "        if Prompt == \"\":\n",
    "            error = \"Error : Empty input sent!\"\n",
    "            for i in range(len(error)):\n",
    "                time.sleep(0.1)\n",
    "                yield \"Atom\\n\" + error[: i+1]\n",
    "        else:\n",
    "            # print(Prompt) #test\n",
    "            \n",
    "            if len(history) == 0:\n",
    "                ephemeral_chat_history.clear()\n",
    "\n",
    "            ephemeral_chat_history.add_user_message(Prompt)\n",
    "\n",
    "            reply = chain.invoke({\"messages\":ephemeral_chat_history.messages})\n",
    "\n",
    "            ephemeral_chat_history.add_ai_message(reply)\n",
    "\n",
    "            for i in range(len(reply)):\n",
    "                time.sleep(0.1)\n",
    "                yield \"Atom\\n\" + reply[: i+1]"
   ]
  },
  {
   "cell_type": "markdown",
   "metadata": {},
   "source": [
    "# Create chatbot UI using Gradio"
   ]
  },
  {
   "cell_type": "code",
   "execution_count": 48,
   "metadata": {},
   "outputs": [
    {
     "name": "stdout",
     "output_type": "stream",
     "text": [
      "Running on local URL:  http://127.0.0.1:7871\n",
      "\n",
      "To create a public link, set `share=True` in `launch()`.\n"
     ]
    },
    {
     "data": {
      "text/html": [
       "<div><iframe src=\"http://127.0.0.1:7871/\" width=\"100%\" height=\"500\" allow=\"autoplay; camera; microphone; clipboard-read; clipboard-write;\" frameborder=\"0\" allowfullscreen></iframe></div>"
      ],
      "text/plain": [
       "<IPython.core.display.HTML object>"
      ]
     },
     "metadata": {},
     "output_type": "display_data"
    },
    {
     "data": {
      "text/plain": []
     },
     "execution_count": 48,
     "metadata": {},
     "output_type": "execute_result"
    }
   ],
   "source": [
    "input_audio = gr.Audio(\n",
    "    sources=[\"microphone\"],\n",
    "    type=\"filepath\",\n",
    "    label=\"Audio\",\n",
    "    waveform_options = gr.WaveformOptions(\n",
    "        waveform_color=\"#01C6FF\",\n",
    "        waveform_progress_color=\"#0066B4\",\n",
    "        skip_length=2,\n",
    "        show_controls=False,\n",
    "    ),\n",
    ")\n",
    "\n",
    "gr.ChatInterface(\n",
    "    slow_reply,\n",
    "    multimodal=True,\n",
    "    additional_inputs = input_audio,\n",
    "    undo_btn=None,\n",
    "    title=\"MultiInputChatbot\",\n",
    "    description=\"Your all-in-one multilingual assistant for text, audio, and file-based conversations.\"\n",
    ").launch()"
   ]
  }
 ],
 "metadata": {
  "kernelspec": {
   "display_name": "Python 3",
   "language": "python",
   "name": "python3"
  },
  "language_info": {
   "codemirror_mode": {
    "name": "ipython",
    "version": 3
   },
   "file_extension": ".py",
   "mimetype": "text/x-python",
   "name": "python",
   "nbconvert_exporter": "python",
   "pygments_lexer": "ipython3",
   "version": "3.11.3"
  }
 },
 "nbformat": 4,
 "nbformat_minor": 2
}
